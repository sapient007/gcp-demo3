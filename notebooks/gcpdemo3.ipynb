{
 "cells": [
  {
   "cell_type": "markdown",
   "metadata": {},
   "source": [
    "# GCP Demo 3: Text translation using AutoML"
   ]
  },
  {
   "cell_type": "markdown",
   "metadata": {},
   "source": [
    "### Import Modules"
   ]
  },
  {
   "cell_type": "code",
   "execution_count": null,
   "metadata": {},
   "outputs": [],
   "source": [
    "import os\n",
    "import shutil\n",
    "\n",
    "from gcpdemo3 import etl\n",
    "\n",
    "from google.oauth2 import service_account"
   ]
  },
  {
   "cell_type": "markdown",
   "metadata": {},
   "source": [
    "### Run ETL"
   ]
  },
  {
   "cell_type": "code",
   "execution_count": null,
   "metadata": {},
   "outputs": [],
   "source": [
    "# get credentials for translation api\n",
    "credentials = service_account.Credentials.from_service_account_file(\n",
    "    '..\\credentials\\ml-sandbox-1-191918-b473cb40490b.json'\n",
    ")\n",
    "\n",
    "# copy raw book files from GCS\n",
    "os.system('gcloud config set project ml-sandbox-1-191918')\n",
    "os.mkdir('./temp')\n",
    "os.system('gsutil -m cp -r gs://gcp-cert-demo-3/opus ./temp')\n",
    "\n",
    "# process native english books and concatenate\n",
    "etl.process_book(\n",
    "    in_path='./temp/opus/Books/raw/en/Austen_Jane-Pride_and_Prejudice.xml',\n",
    "    out_path='./temp/Austen_Jane-Pride_and_Prejudice_en_processed.xml'\n",
    ")\n",
    "etl.process_book(\n",
    "    in_path='./temp/opus/Books/raw/en/Twain_Mark-Tom_Sawyer.xml',\n",
    "    out_path='./temp/Twain_Mark-Tom_Sawyer_en_processed.xml'\n",
    ")\n",
    "etl.process_book(\n",
    "    in_path='./temp/opus/Books/raw/en/Doyle_Arthur_Conan-Adventures_of_Sherlock_Holmes.xml',\n",
    "    out_path='./temp/Doyle_Arthur_Conan-Adventures_of_Sherlock_Holmes_en_processed.xml'\n",
    ")\n",
    "etl.concat_label_files(\n",
    "    in_paths=[\n",
    "        './temp/Austen_Jane-Pride_and_Prejudice_en_processed.xml',\n",
    "        './temp/Twain_Mark-Tom_Sawyer_en_processed.xml',\n",
    "        './temp/Doyle_Arthur_Conan-Adventures_of_Sherlock_Holmes_en_processed.xml'\n",
    "    ],\n",
    "    out_path='./temp/native.csv',\n",
    "    label='native'\n",
    ")\n",
    "\n",
    "# process professionally translated books and concatenate\n",
    "etl.process_book(\n",
    "    in_path='./temp/opus/Books/raw/en/Cervantes_Miguel-Don_Quijote.xml',\n",
    "    out_path='./temp/Cervantes_Miguel-Don_Quijote_en_processed.xml'\n",
    ")\n",
    "etl.process_book(\n",
    "    in_path='./temp/opus/Books/raw/en/Hugo_Victor-Notre_Dame_de_Paris.xml',\n",
    "    out_path='./temp/Hugo_Victor-Notre_Dame_de_Paris_en_processed.xml'\n",
    ")\n",
    "etl.process_book(\n",
    "    in_path='./temp/opus/Books/raw/en/Flaubert_Gustave-Madame_Bovary.xml',\n",
    "    out_path='./temp/Flaubert_Gustave-Madame_Bovary_en_processed.xml'\n",
    ")\n",
    "etl.concat_label_files(\n",
    "    in_paths=[\n",
    "        './temp/Cervantes_Miguel-Don_Quijote_en_processed.xml',\n",
    "        './temp/Hugo_Victor-Notre_Dame_de_Paris_en_processed.xml',\n",
    "        './temp/Flaubert_Gustave-Madame_Bovary_en_processed.xml'\n",
    "    ],\n",
    "    out_path='./temp/translated.csv',\n",
    "    label='translated'\n",
    ")\n",
    "\n",
    "# process and translate native spanish book\n",
    "etl.process_book(\n",
    "    in_path='./temp/opus/Books/raw/es/Cervantes_Miguel-Don_Quijote.xml',\n",
    "    out_path='./temp/Cervantes_Miguel-Don_Quijote_es_processed.xml'\n",
    ")\n",
    "etl.translate_book(\n",
    "    credentials=credentials,\n",
    "    in_path='./temp/Cervantes_Miguel-Don_Quijote_es_processed.xml',\n",
    "    out_path='./temp/cervantes_translated.txt',\n",
    "    source='es',\n",
    "    target='en',\n",
    "    chunk_size=10\n",
    ")\n",
    "\n",
    "# process and translate native french book\n",
    "etl.process_book(\n",
    "    in_path='./temp/opus/Books/raw/fr/Hugo_Victor-Notre_Dame_de_Paris.xml',\n",
    "    out_path='./temp/Hugo_Victor-Notre_Dame_de_Paris_fr_processed.xml'\n",
    ")\n",
    "etl.translate_book(\n",
    "    credentials=credentials,\n",
    "    in_path='./temp/Hugo_Victor-Notre_Dame_de_Paris_fr_processed.xml',\n",
    "    out_path='./temp/victorhugo_translated.txt',\n",
    "    source='fr',\n",
    "    target='en',\n",
    "    chunk_size=10\n",
    ")\n",
    "\n",
    "# concatenate translated books\n",
    "etl.concat_label_files(\n",
    "    in_paths=[\n",
    "        './temp/cervantes_translated.txt',\n",
    "        './temp/victorhugo_translated.txt'\n",
    "    ],\n",
    "    out_path='./temp/machine_translated.csv',\n",
    "    label='machine'\n",
    ")"
   ]
  },
  {
   "cell_type": "markdown",
   "metadata": {},
   "source": [
    "### Train Model"
   ]
  },
  {
   "cell_type": "code",
   "execution_count": null,
   "metadata": {},
   "outputs": [],
   "source": [
    "# TODO: train model"
   ]
  },
  {
   "cell_type": "markdown",
   "metadata": {},
   "source": [
    "### Remove Temporary Directory"
   ]
  },
  {
   "cell_type": "code",
   "execution_count": null,
   "metadata": {},
   "outputs": [],
   "source": [
    "# remove temporary directory\n",
    "shutil.rmtree('./temp')"
   ]
  },
  {
   "cell_type": "markdown",
   "metadata": {},
   "source": [
    "### Deploy Model"
   ]
  },
  {
   "cell_type": "code",
   "execution_count": null,
   "metadata": {},
   "outputs": [],
   "source": [
    "# TODO: deploy model"
   ]
  },
  {
   "cell_type": "markdown",
   "metadata": {},
   "source": [
    "### Make Predictions"
   ]
  },
  {
   "cell_type": "code",
   "execution_count": null,
   "metadata": {},
   "outputs": [],
   "source": [
    "# TODO: make predictions"
   ]
  }
 ],
 "metadata": {
  "kernelspec": {
   "display_name": "Python [conda env:test]",
   "language": "python",
   "name": "conda-env-test-py"
  },
  "language_info": {
   "codemirror_mode": {
    "name": "ipython",
    "version": 3
   },
   "file_extension": ".py",
   "mimetype": "text/x-python",
   "name": "python",
   "nbconvert_exporter": "python",
   "pygments_lexer": "ipython3",
   "version": "3.7.5"
  }
 },
 "nbformat": 4,
 "nbformat_minor": 4
}
